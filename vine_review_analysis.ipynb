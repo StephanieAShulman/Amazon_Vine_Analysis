{
 "cells": [
  {
   "cell_type": "markdown",
   "id": "03c5be9e",
   "metadata": {},
   "source": [
    "# Vine Review Analysis"
   ]
  },
  {
   "cell_type": "markdown",
   "id": "352269b7",
   "metadata": {},
   "source": [
    "Import the CSV file and reduce it to those with at least 20 counts. From those with 20+ counts, reduce this to votes that were considered helpful at least 50% of the time. Of these helpful votes, split them into two groups of paid and unpaid reviewers. Review all data to complete the rest of the analysis."
   ]
  },
  {
   "cell_type": "markdown",
   "id": "47b780ac",
   "metadata": {},
   "source": [
    "### Import the dependencies"
   ]
  },
  {
   "cell_type": "code",
   "execution_count": 1,
   "id": "5fb69a88",
   "metadata": {},
   "outputs": [],
   "source": [
    "import pandas as pd\n",
    "import numpy as np"
   ]
  },
  {
   "cell_type": "markdown",
   "id": "ca4205ee",
   "metadata": {},
   "source": [
    "### Import the data"
   ]
  },
  {
   "cell_type": "code",
   "execution_count": 2,
   "id": "05d52577",
   "metadata": {},
   "outputs": [
    {
     "data": {
      "text/html": [
       "<div>\n",
       "<style scoped>\n",
       "    .dataframe tbody tr th:only-of-type {\n",
       "        vertical-align: middle;\n",
       "    }\n",
       "\n",
       "    .dataframe tbody tr th {\n",
       "        vertical-align: top;\n",
       "    }\n",
       "\n",
       "    .dataframe thead th {\n",
       "        text-align: right;\n",
       "    }\n",
       "</style>\n",
       "<table border=\"1\" class=\"dataframe\">\n",
       "  <thead>\n",
       "    <tr style=\"text-align: right;\">\n",
       "      <th></th>\n",
       "      <th>review_id</th>\n",
       "      <th>star_rating</th>\n",
       "      <th>helpful_votes</th>\n",
       "      <th>total_votes</th>\n",
       "      <th>vine</th>\n",
       "      <th>verified_purchase</th>\n",
       "    </tr>\n",
       "  </thead>\n",
       "  <tbody>\n",
       "    <tr>\n",
       "      <th>0</th>\n",
       "      <td>REAKC26P07MDN</td>\n",
       "      <td>5.0</td>\n",
       "      <td>0.0</td>\n",
       "      <td>0.0</td>\n",
       "      <td>N</td>\n",
       "      <td>Y</td>\n",
       "    </tr>\n",
       "    <tr>\n",
       "      <th>1</th>\n",
       "      <td>R3NU7OMZ4HQIEG</td>\n",
       "      <td>2.0</td>\n",
       "      <td>0.0</td>\n",
       "      <td>1.0</td>\n",
       "      <td>N</td>\n",
       "      <td>Y</td>\n",
       "    </tr>\n",
       "    <tr>\n",
       "      <th>2</th>\n",
       "      <td>R14QJW3XF8QO1P</td>\n",
       "      <td>5.0</td>\n",
       "      <td>0.0</td>\n",
       "      <td>0.0</td>\n",
       "      <td>N</td>\n",
       "      <td>Y</td>\n",
       "    </tr>\n",
       "  </tbody>\n",
       "</table>\n",
       "</div>"
      ],
      "text/plain": [
       "        review_id  star_rating  helpful_votes  total_votes vine  \\\n",
       "0   REAKC26P07MDN          5.0            0.0          0.0    N   \n",
       "1  R3NU7OMZ4HQIEG          2.0            0.0          1.0    N   \n",
       "2  R14QJW3XF8QO1P          5.0            0.0          0.0    N   \n",
       "\n",
       "  verified_purchase  \n",
       "0                 Y  \n",
       "1                 Y  \n",
       "2                 Y  "
      ]
     },
     "execution_count": 2,
     "metadata": {},
     "output_type": "execute_result"
    }
   ],
   "source": [
    "reviews_df = pd.read_csv(\"Resources/vine_table.csv\")\n",
    "reviews_df.head(3)"
   ]
  },
  {
   "cell_type": "markdown",
   "id": "3034fc60",
   "metadata": {},
   "source": [
    "### Create a new df to retrieve all the rows where the total_votes count is >= 20."
   ]
  },
  {
   "cell_type": "code",
   "execution_count": 3,
   "id": "ffbec798",
   "metadata": {},
   "outputs": [
    {
     "data": {
      "text/html": [
       "<div>\n",
       "<style scoped>\n",
       "    .dataframe tbody tr th:only-of-type {\n",
       "        vertical-align: middle;\n",
       "    }\n",
       "\n",
       "    .dataframe tbody tr th {\n",
       "        vertical-align: top;\n",
       "    }\n",
       "\n",
       "    .dataframe thead th {\n",
       "        text-align: right;\n",
       "    }\n",
       "</style>\n",
       "<table border=\"1\" class=\"dataframe\">\n",
       "  <thead>\n",
       "    <tr style=\"text-align: right;\">\n",
       "      <th></th>\n",
       "      <th>review_id</th>\n",
       "      <th>star_rating</th>\n",
       "      <th>helpful_votes</th>\n",
       "      <th>total_votes</th>\n",
       "      <th>vine</th>\n",
       "      <th>verified_purchase</th>\n",
       "    </tr>\n",
       "  </thead>\n",
       "  <tbody>\n",
       "    <tr>\n",
       "      <th>128</th>\n",
       "      <td>R21KC552Y6HL8X</td>\n",
       "      <td>1.0</td>\n",
       "      <td>27.0</td>\n",
       "      <td>31.0</td>\n",
       "      <td>N</td>\n",
       "      <td>Y</td>\n",
       "    </tr>\n",
       "    <tr>\n",
       "      <th>161</th>\n",
       "      <td>RX9WC9FTIR1XR</td>\n",
       "      <td>5.0</td>\n",
       "      <td>25.0</td>\n",
       "      <td>25.0</td>\n",
       "      <td>N</td>\n",
       "      <td>Y</td>\n",
       "    </tr>\n",
       "    <tr>\n",
       "      <th>256</th>\n",
       "      <td>RGDCOU1KBHMNG</td>\n",
       "      <td>3.0</td>\n",
       "      <td>29.0</td>\n",
       "      <td>31.0</td>\n",
       "      <td>N</td>\n",
       "      <td>Y</td>\n",
       "    </tr>\n",
       "  </tbody>\n",
       "</table>\n",
       "</div>"
      ],
      "text/plain": [
       "          review_id  star_rating  helpful_votes  total_votes vine  \\\n",
       "128  R21KC552Y6HL8X          1.0           27.0         31.0    N   \n",
       "161   RX9WC9FTIR1XR          5.0           25.0         25.0    N   \n",
       "256   RGDCOU1KBHMNG          3.0           29.0         31.0    N   \n",
       "\n",
       "    verified_purchase  \n",
       "128                 Y  \n",
       "161                 Y  \n",
       "256                 Y  "
      ]
     },
     "execution_count": 3,
     "metadata": {},
     "output_type": "execute_result"
    }
   ],
   "source": [
    "total_votes_df = reviews_df.loc[(reviews_df[\"total_votes\"] >= 20)]\n",
    "total_votes_df.head(3)"
   ]
  },
  {
   "cell_type": "markdown",
   "id": "0b7cb467",
   "metadata": {},
   "source": [
    "### Filter total_votes_df to create a df that retrieves all rows where helpful_votes divided by total_votes >= 50%."
   ]
  },
  {
   "cell_type": "code",
   "execution_count": 4,
   "id": "c9ed204e",
   "metadata": {},
   "outputs": [
    {
     "data": {
      "text/html": [
       "<div>\n",
       "<style scoped>\n",
       "    .dataframe tbody tr th:only-of-type {\n",
       "        vertical-align: middle;\n",
       "    }\n",
       "\n",
       "    .dataframe tbody tr th {\n",
       "        vertical-align: top;\n",
       "    }\n",
       "\n",
       "    .dataframe thead th {\n",
       "        text-align: right;\n",
       "    }\n",
       "</style>\n",
       "<table border=\"1\" class=\"dataframe\">\n",
       "  <thead>\n",
       "    <tr style=\"text-align: right;\">\n",
       "      <th></th>\n",
       "      <th>review_id</th>\n",
       "      <th>star_rating</th>\n",
       "      <th>helpful_votes</th>\n",
       "      <th>total_votes</th>\n",
       "      <th>vine</th>\n",
       "      <th>verified_purchase</th>\n",
       "    </tr>\n",
       "  </thead>\n",
       "  <tbody>\n",
       "    <tr>\n",
       "      <th>128</th>\n",
       "      <td>R21KC552Y6HL8X</td>\n",
       "      <td>1.0</td>\n",
       "      <td>27.0</td>\n",
       "      <td>31.0</td>\n",
       "      <td>N</td>\n",
       "      <td>Y</td>\n",
       "    </tr>\n",
       "    <tr>\n",
       "      <th>161</th>\n",
       "      <td>RX9WC9FTIR1XR</td>\n",
       "      <td>5.0</td>\n",
       "      <td>25.0</td>\n",
       "      <td>25.0</td>\n",
       "      <td>N</td>\n",
       "      <td>Y</td>\n",
       "    </tr>\n",
       "    <tr>\n",
       "      <th>256</th>\n",
       "      <td>RGDCOU1KBHMNG</td>\n",
       "      <td>3.0</td>\n",
       "      <td>29.0</td>\n",
       "      <td>31.0</td>\n",
       "      <td>N</td>\n",
       "      <td>Y</td>\n",
       "    </tr>\n",
       "  </tbody>\n",
       "</table>\n",
       "</div>"
      ],
      "text/plain": [
       "          review_id  star_rating  helpful_votes  total_votes vine  \\\n",
       "128  R21KC552Y6HL8X          1.0           27.0         31.0    N   \n",
       "161   RX9WC9FTIR1XR          5.0           25.0         25.0    N   \n",
       "256   RGDCOU1KBHMNG          3.0           29.0         31.0    N   \n",
       "\n",
       "    verified_purchase  \n",
       "128                 Y  \n",
       "161                 Y  \n",
       "256                 Y  "
      ]
     },
     "execution_count": 4,
     "metadata": {},
     "output_type": "execute_result"
    }
   ],
   "source": [
    "helpful_votes_df = total_votes_df.loc[((total_votes_df[\"helpful_votes\"]) / (total_votes_df[\"total_votes\"]) >= 0.50)]\n",
    "helpful_votes_df.head(3)"
   ]
  },
  {
   "cell_type": "markdown",
   "id": "48259129",
   "metadata": {},
   "source": [
    "### Filter helpful_votes_df to create two new dfs\n",
    "1. Retrieve all rows where a written review was part of the Vine paid program (vine == Y).\n",
    "2. Retrieve all rows where a written review was not part of the Vine paid program (vine == N)."
   ]
  },
  {
   "cell_type": "code",
   "execution_count": 5,
   "id": "a9f9c407",
   "metadata": {},
   "outputs": [
    {
     "data": {
      "text/html": [
       "<div>\n",
       "<style scoped>\n",
       "    .dataframe tbody tr th:only-of-type {\n",
       "        vertical-align: middle;\n",
       "    }\n",
       "\n",
       "    .dataframe tbody tr th {\n",
       "        vertical-align: top;\n",
       "    }\n",
       "\n",
       "    .dataframe thead th {\n",
       "        text-align: right;\n",
       "    }\n",
       "</style>\n",
       "<table border=\"1\" class=\"dataframe\">\n",
       "  <thead>\n",
       "    <tr style=\"text-align: right;\">\n",
       "      <th></th>\n",
       "      <th>review_id</th>\n",
       "      <th>star_rating</th>\n",
       "      <th>helpful_votes</th>\n",
       "      <th>total_votes</th>\n",
       "      <th>vine</th>\n",
       "      <th>verified_purchase</th>\n",
       "    </tr>\n",
       "  </thead>\n",
       "  <tbody>\n",
       "    <tr>\n",
       "      <th>8547</th>\n",
       "      <td>R3A71VR1JZD8WF</td>\n",
       "      <td>2.0</td>\n",
       "      <td>27.0</td>\n",
       "      <td>30.0</td>\n",
       "      <td>Y</td>\n",
       "      <td>N</td>\n",
       "    </tr>\n",
       "    <tr>\n",
       "      <th>10246</th>\n",
       "      <td>R16OMUJIGI18JZ</td>\n",
       "      <td>5.0</td>\n",
       "      <td>72.0</td>\n",
       "      <td>72.0</td>\n",
       "      <td>Y</td>\n",
       "      <td>N</td>\n",
       "    </tr>\n",
       "    <tr>\n",
       "      <th>25168</th>\n",
       "      <td>R3TS8ZP2FHQ9XR</td>\n",
       "      <td>5.0</td>\n",
       "      <td>39.0</td>\n",
       "      <td>42.0</td>\n",
       "      <td>Y</td>\n",
       "      <td>N</td>\n",
       "    </tr>\n",
       "  </tbody>\n",
       "</table>\n",
       "</div>"
      ],
      "text/plain": [
       "            review_id  star_rating  helpful_votes  total_votes vine  \\\n",
       "8547   R3A71VR1JZD8WF          2.0           27.0         30.0    Y   \n",
       "10246  R16OMUJIGI18JZ          5.0           72.0         72.0    Y   \n",
       "25168  R3TS8ZP2FHQ9XR          5.0           39.0         42.0    Y   \n",
       "\n",
       "      verified_purchase  \n",
       "8547                  N  \n",
       "10246                 N  \n",
       "25168                 N  "
      ]
     },
     "execution_count": 5,
     "metadata": {},
     "output_type": "execute_result"
    }
   ],
   "source": [
    "paidReview_df = helpful_votes_df.loc[(helpful_votes_df[\"vine\"]) == 'Y']\n",
    "paidReview_df.head(3)"
   ]
  },
  {
   "cell_type": "code",
   "execution_count": 6,
   "id": "ec0bdb5f",
   "metadata": {},
   "outputs": [
    {
     "data": {
      "text/html": [
       "<div>\n",
       "<style scoped>\n",
       "    .dataframe tbody tr th:only-of-type {\n",
       "        vertical-align: middle;\n",
       "    }\n",
       "\n",
       "    .dataframe tbody tr th {\n",
       "        vertical-align: top;\n",
       "    }\n",
       "\n",
       "    .dataframe thead th {\n",
       "        text-align: right;\n",
       "    }\n",
       "</style>\n",
       "<table border=\"1\" class=\"dataframe\">\n",
       "  <thead>\n",
       "    <tr style=\"text-align: right;\">\n",
       "      <th></th>\n",
       "      <th>review_id</th>\n",
       "      <th>star_rating</th>\n",
       "      <th>helpful_votes</th>\n",
       "      <th>total_votes</th>\n",
       "      <th>vine</th>\n",
       "      <th>verified_purchase</th>\n",
       "    </tr>\n",
       "  </thead>\n",
       "  <tbody>\n",
       "    <tr>\n",
       "      <th>128</th>\n",
       "      <td>R21KC552Y6HL8X</td>\n",
       "      <td>1.0</td>\n",
       "      <td>27.0</td>\n",
       "      <td>31.0</td>\n",
       "      <td>N</td>\n",
       "      <td>Y</td>\n",
       "    </tr>\n",
       "    <tr>\n",
       "      <th>161</th>\n",
       "      <td>RX9WC9FTIR1XR</td>\n",
       "      <td>5.0</td>\n",
       "      <td>25.0</td>\n",
       "      <td>25.0</td>\n",
       "      <td>N</td>\n",
       "      <td>Y</td>\n",
       "    </tr>\n",
       "    <tr>\n",
       "      <th>256</th>\n",
       "      <td>RGDCOU1KBHMNG</td>\n",
       "      <td>3.0</td>\n",
       "      <td>29.0</td>\n",
       "      <td>31.0</td>\n",
       "      <td>N</td>\n",
       "      <td>Y</td>\n",
       "    </tr>\n",
       "  </tbody>\n",
       "</table>\n",
       "</div>"
      ],
      "text/plain": [
       "          review_id  star_rating  helpful_votes  total_votes vine  \\\n",
       "128  R21KC552Y6HL8X          1.0           27.0         31.0    N   \n",
       "161   RX9WC9FTIR1XR          5.0           25.0         25.0    N   \n",
       "256   RGDCOU1KBHMNG          3.0           29.0         31.0    N   \n",
       "\n",
       "    verified_purchase  \n",
       "128                 Y  \n",
       "161                 Y  \n",
       "256                 Y  "
      ]
     },
     "execution_count": 6,
     "metadata": {},
     "output_type": "execute_result"
    }
   ],
   "source": [
    "unpaidReview_df = helpful_votes_df.loc[(helpful_votes_df[\"vine\"]) == 'N']\n",
    "unpaidReview_df.head(3)"
   ]
  },
  {
   "cell_type": "markdown",
   "id": "27493d88",
   "metadata": {},
   "source": [
    "### Determine the following:\n",
    "1. The total number of reviews.\n",
    "2. The number of 5-star reviews.\n",
    "3. The percentage of 5-star reviews for the two types of review (paid vs unpaid)."
   ]
  },
  {
   "cell_type": "code",
   "execution_count": 7,
   "id": "a5e2782e",
   "metadata": {},
   "outputs": [
    {
     "data": {
      "text/plain": [
       "38010"
      ]
     },
     "execution_count": 7,
     "metadata": {},
     "output_type": "execute_result"
    }
   ],
   "source": [
    "total_no_reviews = (paidReview_df[\"review_id\"].count() + unpaidReview_df[\"review_id\"].count())\n",
    "total_no_reviews"
   ]
  },
  {
   "cell_type": "code",
   "execution_count": 8,
   "id": "9db7f19e",
   "metadata": {},
   "outputs": [
    {
     "data": {
      "text/plain": [
       "65"
      ]
     },
     "execution_count": 8,
     "metadata": {},
     "output_type": "execute_result"
    }
   ],
   "source": [
    "paid_5star = paidReview_df.loc[(paidReview_df[\"star_rating\"] == 5.0)].count()\n",
    "paid_5star[\"star_rating\"]"
   ]
  },
  {
   "cell_type": "code",
   "execution_count": 9,
   "id": "6705d047",
   "metadata": {},
   "outputs": [
    {
     "data": {
      "text/plain": [
       "20612"
      ]
     },
     "execution_count": 9,
     "metadata": {},
     "output_type": "execute_result"
    }
   ],
   "source": [
    "unpaid_5star = unpaidReview_df.loc[(unpaidReview_df[\"star_rating\"] == 5.0)].count()\n",
    "unpaid_5star[\"star_rating\"]"
   ]
  },
  {
   "cell_type": "code",
   "execution_count": 10,
   "id": "88adae92",
   "metadata": {},
   "outputs": [
    {
     "data": {
      "text/plain": [
       "20677"
      ]
     },
     "execution_count": 10,
     "metadata": {},
     "output_type": "execute_result"
    }
   ],
   "source": [
    "total_no_5star = paid_5star[\"star_rating\"] + unpaid_5star[\"star_rating\"]\n",
    "total_no_5star"
   ]
  },
  {
   "cell_type": "code",
   "execution_count": 11,
   "id": "3be57ed9",
   "metadata": {},
   "outputs": [
    {
     "data": {
      "text/plain": [
       "0.31435894955747934"
      ]
     },
     "execution_count": 11,
     "metadata": {},
     "output_type": "execute_result"
    }
   ],
   "source": [
    "paidPercent_5star = (paid_5star / total_no_5star) * 100\n",
    "paidPercent_5star[\"star_rating\"]"
   ]
  },
  {
   "cell_type": "code",
   "execution_count": 12,
   "id": "90313637",
   "metadata": {},
   "outputs": [
    {
     "data": {
      "text/plain": [
       "99.68564105044251"
      ]
     },
     "execution_count": 12,
     "metadata": {},
     "output_type": "execute_result"
    }
   ],
   "source": [
    "unpaidPercent_5star = (unpaid_5star / total_no_5star) * 100\n",
    "unpaidPercent_5star[\"star_rating\"]"
   ]
  },
  {
   "cell_type": "markdown",
   "id": "7756f92d",
   "metadata": {},
   "source": [
    "### 0.3% of 5-star reviews are paid; 99.7% are unpaid"
   ]
  },
  {
   "cell_type": "code",
   "execution_count": null,
   "id": "ad93894c",
   "metadata": {},
   "outputs": [],
   "source": [
    "# VERIFY\n",
    "65/20677"
   ]
  },
  {
   "cell_type": "code",
   "execution_count": null,
   "id": "8b194bfe",
   "metadata": {},
   "outputs": [],
   "source": [
    "# VERIFY\n",
    "20612/20677"
   ]
  },
  {
   "cell_type": "code",
   "execution_count": null,
   "id": "d90f1dc1",
   "metadata": {},
   "outputs": [],
   "source": [
    "20677/38010"
   ]
  }
 ],
 "metadata": {
  "kernelspec": {
   "display_name": "Python 3 (ipykernel)",
   "language": "python",
   "name": "python3"
  },
  "language_info": {
   "codemirror_mode": {
    "name": "ipython",
    "version": 3
   },
   "file_extension": ".py",
   "mimetype": "text/x-python",
   "name": "python",
   "nbconvert_exporter": "python",
   "pygments_lexer": "ipython3",
   "version": "3.9.7"
  }
 },
 "nbformat": 4,
 "nbformat_minor": 5
}
